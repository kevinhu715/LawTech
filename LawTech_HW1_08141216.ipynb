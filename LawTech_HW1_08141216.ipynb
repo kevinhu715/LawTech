{
 "cells": [
  {
   "cell_type": "markdown",
   "metadata": {},
   "source": [
    "# LawTech HW1"
   ]
  },
  {
   "cell_type": "markdown",
   "metadata": {},
   "source": [
    "繳交檔名：LawTech_HW1_學號"
   ]
  },
  {
   "cell_type": "markdown",
   "metadata": {},
   "source": [
    "#### 一、字串處理"
   ]
  },
  {
   "cell_type": "markdown",
   "metadata": {},
   "source": [
    "請用「空白鍵」當作切割符，對 `test1`變數做切割，並將Zombie、boys、Vampire這幾個單詞抓出來，使用字串格式化的方式產生下面的句子"
   ]
  },
  {
   "cell_type": "markdown",
   "metadata": {},
   "source": [
    "Oh! boys, please don't fear Zombie and Vampire."
   ]
  },
  {
   "cell_type": "code",
   "execution_count": 2,
   "metadata": {},
   "outputs": [],
   "source": [
    "test1 = \"Zombie stories are life lessons for boys who don't mind thinking about bodies, but can't cope with emotions. \\\n",
    "Vampire stories are in many ways sex for the squeamish.\""
   ]
  },
  {
   "cell_type": "code",
   "execution_count": 3,
   "metadata": {},
   "outputs": [
    {
     "name": "stdout",
     "output_type": "stream",
     "text": [
      "Oh!boys,please don't fear Zombie and Vampire.\n"
     ]
    }
   ],
   "source": [
    "splittest1 = test1.split(\" \")\n",
    "a = splittest1.index(\"boys\")\n",
    "b = splittest1.index(\"Zombie\")\n",
    "c = splittest1.index(\"Vampire\")\n",
    "print(f\"Oh!{splittest1[a]},please don't fear {splittest1[b]} and {splittest1[c]}.\")"
   ]
  },
  {
   "cell_type": "markdown",
   "metadata": {},
   "source": [
    "#### 二、Index索引練習\n",
    "\n",
    "請將 List 中的數字抓出，並算出總合為多少"
   ]
  },
  {
   "cell_type": "code",
   "execution_count": 4,
   "metadata": {},
   "outputs": [],
   "source": [
    "List = [23, 'red', 3, ['15', 'apple', [3, '3.5']], '27', [90, 'fight']]"
   ]
  },
  {
   "cell_type": "code",
   "execution_count": 9,
   "metadata": {},
   "outputs": [
    {
     "data": {
      "text/plain": [
       "164.5"
      ]
     },
     "execution_count": 9,
     "metadata": {},
     "output_type": "execute_result"
    }
   ],
   "source": [
    "float(List[0]) + float(List[2]) + eval(List[3][0]) + float(List[3][2][0]) + float(eval(List[3][2][1])) + float(List[4]) + float(List[5][0])"
   ]
  },
  {
   "cell_type": "markdown",
   "metadata": {},
   "source": [
    "#### 三、資料存取練習"
   ]
  },
  {
   "cell_type": "markdown",
   "metadata": {},
   "source": [
    "請設計一個資料結構（dict of list），來儲存以下數據\n",
    "\n",
    "\n",
    "Jay--M--170\n",
    "\n",
    "Bill--M--189\n",
    "\n",
    "Alice--F--160\n",
    "\n",
    "May--F--158\n",
    "\n",
    "Max--M--185\n",
    "\n",
    "Ann--F--148\n",
    "\n",
    "Dabby--F--150\n",
    "\n",
    "Steve--M--180\n",
    "\n",
    "Jet--M--173\n",
    "\n",
    "Amy--F--156\n",
    "\n",
    "並計算這10人的身高平均"
   ]
  },
  {
   "cell_type": "markdown",
   "metadata": {},
   "source": [
    "`sum()`：合計function\n"
   ]
  },
  {
   "cell_type": "code",
   "execution_count": 41,
   "metadata": {},
   "outputs": [],
   "source": [
    "dict1 = {}\n",
    "dict1['Jay'] = ['M',170]\n",
    "dict1['Bii'] = ['M',189]\n",
    "dict1['Alice'] = ['F',160]\n",
    "dict1['May'] = ['F',158]\n",
    "dict1['Max'] = ['M',185]\n",
    "dict1['Ann'] = ['F',148]\n",
    "dict1['Dabby'] = ['F',150]\n",
    "dict1['Steve'] = ['M',180]\n",
    "dict1['Jet'] = ['M',173]\n",
    "dict1['Amy'] = ['F',156]\n",
    "a = dict1.get(\"Jay\")\n",
    "b = dict1.get('Bii')\n",
    "c = dict1.get('Alice')\n",
    "d = dict1.get('Ann')\n",
    "e = dict1.get('Max')\n",
    "f = dict1.get('Dabby')\n",
    "g = dict1.get('Steve')\n",
    "h = dict1.get('Jet')\n",
    "i = dict1.get('Amy')\n",
    "a.extend(b)\n",
    "a.extend(c)\n",
    "a.extend(d)\n",
    "a.extend(e)\n",
    "a.extend(f)\n",
    "a.extend(g)\n",
    "a.extend(h)\n",
    "a.extend(i)\n",
    "set1 = set(a)\n",
    "set1.remove('F')\n",
    "set1.remove('M')"
   ]
  },
  {
   "cell_type": "code",
   "execution_count": 42,
   "metadata": {},
   "outputs": [
    {
     "name": "stdout",
     "output_type": "stream",
     "text": [
      "Average= 151.1\n"
     ]
    }
   ],
   "source": [
    "print('Average=',float(sum(set1))/10)"
   ]
  }
 ],
 "metadata": {
  "kernelspec": {
   "display_name": "Python 3",
   "language": "python",
   "name": "python3"
  },
  "language_info": {
   "codemirror_mode": {
    "name": "ipython",
    "version": 3
   },
   "file_extension": ".py",
   "mimetype": "text/x-python",
   "name": "python",
   "nbconvert_exporter": "python",
   "pygments_lexer": "ipython3",
   "version": "3.7.3"
  }
 },
 "nbformat": 4,
 "nbformat_minor": 2
}
